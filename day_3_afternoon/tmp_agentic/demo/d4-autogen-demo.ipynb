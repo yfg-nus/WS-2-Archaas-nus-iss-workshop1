{
 "cells": [
  {
   "cell_type": "markdown",
   "metadata": {},
   "source": [
    "# AutoGen Demo\n",
    "\n",
    "**Microsoft AutoGen v0.4** - A framework for building conversational multi-agent AI applications.\n",
    "\n",
    "## What Makes AutoGen Special?\n",
    "AutoGen excels at **multi-agent orchestration** - enabling AI agents to have natural conversations and collaborate to solve complex problems.\n",
    "\n",
    "## Required Environment Variables\n",
    "\n",
    "```\n",
    "OPENAI_API_KEY    # Your OpenAI API key (required)\n",
    "```\n",
    "\n",
    "Please refer to the [README](README.md) for instructions on setting up environment variables.\n",
    "\n",
    "## This Demo Shows:\n",
    "1. **Simple Query** - Basic agent interaction with OpenAI\n",
    "2. **Tool Usage** - Function calling capabilities  \n",
    "3. **Agent-to-Agent Communication** - Multiple agents collaborating (AutoGen's strength!)"
   ]
  },
  {
   "cell_type": "code",
   "execution_count": null,
   "metadata": {},
   "outputs": [],
   "source": [
    "# Setup and imports\n",
    "import os\n",
    "import asyncio\n",
    "from dotenv import load_dotenv\n",
    "\n",
    "# Load environment variables from .env file\n",
    "load_dotenv(override=True)\n",
    "\n",
    "# Import AutoGen components\n",
    "from autogen_agentchat.agents import AssistantAgent\n",
    "from autogen_agentchat.messages import TextMessage\n",
    "from autogen_agentchat.teams import RoundRobinGroupChat\n",
    "from autogen_agentchat.conditions import MaxMessageTermination\n",
    "from autogen_ext.models.openai import OpenAIChatCompletionClient"
   ]
  },
  {
   "cell_type": "markdown",
   "metadata": {},
   "source": [
    "## Step 1: Load Model & Simple Query"
   ]
  },
  {
   "cell_type": "code",
   "execution_count": null,
   "metadata": {},
   "outputs": [],
   "source": [
    "# Create OpenAI model client\n",
    "# The API key is loaded from the OPENAI_API_KEY environment variable\n",
    "model_client = OpenAIChatCompletionClient(\n",
    "    model=\"gpt-5-mini\",  # Cost-effective model\n",
    "    api_key=os.getenv('OPENAI_API_KEY')  # Explicitly load from environment\n",
    ")\n",
    "\n",
    "# Create basic agent\n",
    "food_agent = AssistantAgent(\n",
    "    name=\"food_advisor\",\n",
    "    model_client=model_client,\n",
    "    description=\"A helpful assistant for food recommendations.\"\n",
    ")"
   ]
  },
  {
   "cell_type": "code",
   "execution_count": null,
   "metadata": {},
   "outputs": [],
   "source": [
    "# Make a real API call through AutoGen\n",
    "query = \"What should we have for lunch in Singapore? Suggest some local food. Keep it concise. Just 3 bullets points max.\"\n",
    "\n",
    "print(f\"Query: {query}\")\n",
    "\n",
    "# Create the message and get response\n",
    "async def get_food_recommendation():\n",
    "    response = await food_agent.on_messages(\n",
    "        [TextMessage(content=query, source=\"user\")],\n",
    "        cancellation_token=None\n",
    "    )\n",
    "    print(response.chat_message.content)\n",
    "\n",
    "# Run the async function\n",
    "await get_food_recommendation()"
   ]
  },
  {
   "cell_type": "markdown",
   "metadata": {},
   "source": [
    "## Step 2: Simple Tool Definition & Usage"
   ]
  },
  {
   "cell_type": "code",
   "execution_count": null,
   "metadata": {},
   "outputs": [],
   "source": [
    "# Define a simple calculator tool\n",
    "async def calculate(expression: str) -> str:\n",
    "    \"\"\"Evaluate mathematical expressions.\n",
    "\n",
    "    Args:\n",
    "        expression: Math expression like \"2 + 3 * 4\"\n",
    "\n",
    "    Returns:\n",
    "        str: Calculation result\n",
    "    \"\"\"\n",
    "    try:\n",
    "        # Safety check for basic math operations only\n",
    "        allowed_chars = set('0123456789+-*/.() ')\n",
    "        if not all(c in allowed_chars for c in expression):\n",
    "            return \"Error: Invalid characters in expression\"\n",
    "\n",
    "        result = eval(expression)\n",
    "        return f\"{expression} = {result}\"\n",
    "    except Exception as e:\n",
    "        return f\"Error: {str(e)}\"\n"
   ]
  },
  {
   "cell_type": "code",
   "execution_count": null,
   "metadata": {},
   "outputs": [],
   "source": [
    "# Create agent with tool\n",
    "math_agent = AssistantAgent(\n",
    "    name=\"math_assistant\",\n",
    "    model_client=model_client,\n",
    "    tools=[calculate],  # Add the calculator tool\n",
    "    description=\"An assistant that can perform calculations.\"\n",
    ")\n"
   ]
  },
  {
   "cell_type": "code",
   "execution_count": null,
   "metadata": {},
   "outputs": [],
   "source": [
    "# Demonstrate real tool usage through AutoGen\n",
    "math_query = \"Calculate the total cost if lunch costs $12.50 per person for 8 people.\"\n",
    "\n",
    "print(f\"Query: {math_query}\")\n",
    "print(\"=\"*50)\n",
    "print(\"\\nAgent Response (with tool usage):\")\n",
    "\n",
    "async def calculate_lunch_cost():\n",
    "    response = await math_agent.on_messages(\n",
    "        [TextMessage(content=math_query, source=\"user\")],\n",
    "        cancellation_token=None\n",
    "    )\n",
    "    print(response.chat_message.content)\n",
    "\n",
    "# Run the calculation\n",
    "await calculate_lunch_cost()"
   ]
  },
  {
   "cell_type": "markdown",
   "metadata": {},
   "source": [
    "## Step 3: Agent-to-Agent Communication (AutoGen's Strength!)\n",
    "\n",
    "This is where AutoGen truly shines - orchestrating conversations between multiple specialized agents."
   ]
  },
  {
   "cell_type": "code",
   "execution_count": null,
   "metadata": {},
   "outputs": [],
   "source": [
    "# Create two specialized agents that will collaborate\n",
    "\n",
    "# Research Agent - gathers information\n",
    "research_agent = AssistantAgent(\n",
    "    name=\"researcher\",\n",
    "    model_client=model_client,\n",
    "    description=\"Specializes in gathering and providing information about food prices and options. Keep responses concise.\"\n",
    ")\n",
    "\n",
    "# Analysis Agent - processes and analyzes data\n",
    "analysis_agent = AssistantAgent(\n",
    "    name=\"analyst\",\n",
    "    model_client=model_client,\n",
    "    tools=[calculate],\n",
    "    description=\"Specializes in data analysis, calculations, and budget recommendations. Keep responses concise.\"\n",
    ")\n"
   ]
  },
  {
   "cell_type": "code",
   "execution_count": null,
   "metadata": {},
   "outputs": [],
   "source": [
    "# Demonstrate real agent-to-agent communication using RoundRobinGroupChat\n",
    "print(\"🎯 Task: Plan a team lunch budget for our Singapore office (12 people)\")\n",
    "\n",
    "# Create a group chat for agent collaboration\n",
    "async def multi_agent_collaboration():\n",
    "    # Simple termination after 2 messages (one from each agent)\n",
    "    termination = MaxMessageTermination(max_messages=2)\n",
    "\n",
    "    # Create the group chat team\n",
    "    team = RoundRobinGroupChat(\n",
    "        participants=[research_agent, analysis_agent],\n",
    "        termination_condition=termination\n",
    "    )\n",
    "\n",
    "    # Simpler, more focused task\n",
    "    task = \"\"\"Plan a team lunch budget for 12 people in Singapore.\n",
    "    Research typical lunch prices (hawker centers vs restaurants) and calculate the total budget needed.\"\"\"\n",
    "\n",
    "    # Run the team collaboration\n",
    "    result = await team.run(task=task)\n",
    "\n",
    "    # Display the conversation\n",
    "    for message in result.messages:\n",
    "        print(f\"{message.source.upper()}:\")\n",
    "        content = message.content\n",
    "        print(f\"  {content}\\n\")\n",
    "\n",
    "# Run the multi-agent demo\n",
    "await multi_agent_collaboration()"
   ]
  },
  {
   "cell_type": "markdown",
   "metadata": {},
   "source": [
    "## Summary\n",
    "\n",
    "### What We Demonstrated:\n",
    "\n",
    "1. **✅ Simple Query** - Real API call to OpenAI through AutoGen\n",
    "2. **✅ Tool Usage** - Agent automatically used calculator tool when needed\n",
    "3. **✅ Agent Communication** - Multiple agents had a real conversation to solve a task\n",
    "\n",
    "### AutoGen's Key Strength:\n",
    "**Multi-agent orchestration** - AutoGen makes it incredibly easy for multiple AI agents to have natural conversations and work together, each bringing their specialized capabilities to solve problems collaboratively.\n",
    "\n"
   ]
  }
 ],
 "metadata": {
  "kernelspec": {
   "display_name": ".venv",
   "language": "python",
   "name": "python3"
  },
  "language_info": {
   "codemirror_mode": {
    "name": "ipython",
    "version": 3
   },
   "file_extension": ".py",
   "mimetype": "text/x-python",
   "name": "python",
   "nbconvert_exporter": "python",
   "pygments_lexer": "ipython3",
   "version": "3.12.4"
  }
 },
 "nbformat": 4,
 "nbformat_minor": 4
}
