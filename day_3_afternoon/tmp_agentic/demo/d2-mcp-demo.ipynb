{
 "cells": [
  {
   "cell_type": "markdown",
   "id": "introduction",
   "metadata": {},
   "source": [
    "# Model Context Protocol (MCP) Demo with Anthropic Messages API\n",
    "\n",
    "This notebook demonstrates the basic usage of Anthropic's Model Context Protocol (MCP) for connecting AI models to external data sources and tools.\n",
    "\n",
    "## What is MCP?\n",
    "\n",
    "MCP (Model Context Protocol) is an open standard by Anthropic that standardizes how AI models connect to external tools and data sources. Think of it as a \"USB-C port for AI applications\" - it provides a unified way to connect to different services instead of building custom integrations for each one.\n",
    "\n",
    "## Key Benefits:\n",
    "- **Standardized**: One protocol for all external connections\n",
    "- **Secure**: Built-in authentication and security practices\n",
    "- **Flexible**: Works with local and remote servers\n",
    "- **Open**: Not limited to Anthropic - adopted by OpenAI and others\n",
    "\n",
    "## Required Environment Variables\n",
    "\n",
    "```\n",
    "ANTHROPIC_API_KEY    # Your Anthropic API key (required)\n",
    "```\n",
    "\n",
    "Please refer to the [README](README.md) for instructions on setting up environment variables.\n",
    "\n",
    "## Setup\n",
    "\n",
    "First, let's install the required packages and set up our environment."
   ]
  },
  {
   "cell_type": "code",
   "execution_count": null,
   "id": "hz5hxtn1ifg",
   "metadata": {},
   "outputs": [],
   "source": [
    "# If running standalone without the project setup:\n",
    "# pip install anthropic python-dotenv requests mcp nest-asyncio"
   ]
  },
  {
   "cell_type": "code",
   "execution_count": 1,
   "id": "imports",
   "metadata": {},
   "outputs": [],
   "source": [
    "import os\n",
    "import json\n",
    "import requests\n",
    "import asyncio\n",
    "from anthropic import Anthropic\n",
    "from dotenv import load_dotenv\n",
    "from mcp.server.fastmcp import FastMCP\n",
    "import nest_asyncio\n",
    "\n",
    "# Enable nested asyncio for Jupyter\n",
    "nest_asyncio.apply()\n",
    "\n",
    "# Load environment variables\n",
    "load_dotenv(override=True)\n",
    "\n",
    "# Initialize Anthropic client\n",
    "client = Anthropic(\n",
    "    api_key=os.getenv('ANTHROPIC_API_KEY')  # Make sure to set your API key in .env file\n",
    ")"
   ]
  },
  {
   "cell_type": "markdown",
   "id": "mcp-concept",
   "metadata": {},
   "source": [
    "## Basic MCP Configuration\n",
    "\n",
    "Let's set up a basic MCP server configuration. For this demo, we'll create a mock MCP server endpoint that simulates a weather service."
   ]
  },
  {
   "cell_type": "code",
   "execution_count": 2,
   "id": "mcp-config",
   "metadata": {},
   "outputs": [
    {
     "name": "stdout",
     "output_type": "stream",
     "text": [
      "MCP Server Configuration:\n",
      "{\n",
      "  \"type\": \"url\",\n",
      "  \"url\": \"https://api.openweathermap.org/data/2.5\",\n",
      "  \"name\": \"weather-api\",\n",
      "  \"authorization_token\": \"demo_token\",\n",
      "  \"tool_configuration\": {\n",
      "    \"enabled\": true,\n",
      "    \"allowed_tools\": [\n",
      "      \"get_weather\"\n",
      "    ]\n",
      "  }\n",
      "}\n"
     ]
    }
   ],
   "source": [
    "# MCP Server configuration\n",
    "# In a real scenario, this would be a running MCP server\n",
    "# For demo purposes, we'll simulate the MCP interaction\n",
    "\n",
    "mcp_server_config = {\n",
    "    \"type\": \"url\",\n",
    "    \"url\": \"https://api.openweathermap.org/data/2.5\",  # Using OpenWeatherMap as example\n",
    "    \"name\": \"weather-api\",\n",
    "    \"authorization_token\": \"demo_token\",  # In real usage, get proper API key\n",
    "    \"tool_configuration\": {\n",
    "        \"enabled\": True,\n",
    "        \"allowed_tools\": [\"get_weather\"]\n",
    "    }\n",
    "}\n",
    "\n",
    "print(\"MCP Server Configuration:\")\n",
    "print(json.dumps(mcp_server_config, indent=2))"
   ]
  },
  {
   "cell_type": "markdown",
   "id": "mcp-demo",
   "metadata": {},
   "source": [
    "## MCP Demo with External API\n",
    "\n",
    "Since setting up a full MCP server requires additional infrastructure, we'll demonstrate the MCP concept using Anthropic's Messages API with the MCP connector feature.\n",
    "\n",
    "**Important:** The MCP connector feature requires the beta header `\"anthropic-beta\": \"mcp-client-2025-04-04\"`"
   ]
  },
  {
   "cell_type": "markdown",
   "id": "mcp-weather-demo",
   "metadata": {},
   "source": [
    "## Real MCP Server Implementation\n",
    "\n",
    "Let's create an actual MCP server for weather data using the Open-Meteo API (free, no API key required). This will demonstrate how MCP servers expose tools that AI models can use."
   ]
  },
  {
   "cell_type": "code",
   "execution_count": 3,
   "id": "xmi1g1zjp6j",
   "metadata": {},
   "outputs": [],
   "source": [
    "# Create a simple MCP server for weather data\n",
    "# Using Open-Meteo API (free, no API key required)\n",
    "\n",
    "mcp = FastMCP(\"weather-server\")\n",
    "\n",
    "@mcp.tool()\n",
    "async def get_weather(location: str = \"Singapore\") -> dict:\n",
    "    \"\"\"\n",
    "    Get current weather for a location.\n",
    "    Defaults to Singapore if no location specified.\n",
    "\n",
    "    Args:\n",
    "        location: City name (e.g., \"Singapore\", \"Tokyo\", \"London\")\n",
    "\n",
    "    Returns:\n",
    "        Current weather data including temperature, conditions, and more\n",
    "    \"\"\"\n",
    "    # Coordinates for common cities (for demo simplicity)\n",
    "    city_coords = {\n",
    "        \"singapore\": {\"lat\": 1.3521, \"lon\": 103.8198},\n",
    "        \"tokyo\": {\"lat\": 35.6762, \"lon\": 139.6503},\n",
    "        \"london\": {\"lat\": 51.5074, \"lon\": -0.1278},\n",
    "        \"new york\": {\"lat\": 40.7128, \"lon\": -74.0060},\n",
    "        \"sydney\": {\"lat\": -33.8688, \"lon\": 151.2093}\n",
    "    }\n",
    "\n",
    "    # Get coordinates for the city\n",
    "    coords = city_coords.get(location.lower(), city_coords[\"singapore\"])\n",
    "\n",
    "    # Fetch weather from Open-Meteo API (free, no key required)\n",
    "    url = f\"https://api.open-meteo.com/v1/forecast\"\n",
    "    params = {\n",
    "        \"latitude\": coords[\"lat\"],\n",
    "        \"longitude\": coords[\"lon\"],\n",
    "        \"current\": \"temperature_2m,relative_humidity_2m,weather_code,wind_speed_10m\",\n",
    "        \"timezone\": \"auto\"\n",
    "    }\n",
    "\n",
    "    try:\n",
    "        response = requests.get(url, params=params)\n",
    "        data = response.json()\n",
    "\n",
    "        # Weather code descriptions\n",
    "        weather_codes = {\n",
    "            0: \"Clear sky\",\n",
    "            1: \"Mainly clear\", 2: \"Partly cloudy\", 3: \"Overcast\",\n",
    "            45: \"Foggy\", 48: \"Depositing rime fog\",\n",
    "            51: \"Light drizzle\", 53: \"Moderate drizzle\", 55: \"Dense drizzle\",\n",
    "            61: \"Slight rain\", 63: \"Moderate rain\", 65: \"Heavy rain\",\n",
    "            71: \"Slight snow\", 73: \"Moderate snow\", 75: \"Heavy snow\",\n",
    "            77: \"Snow grains\",\n",
    "            80: \"Slight rain showers\", 81: \"Moderate rain showers\", 82: \"Violent rain showers\",\n",
    "            85: \"Slight snow showers\", 86: \"Heavy snow showers\",\n",
    "            95: \"Thunderstorm\", 96: \"Thunderstorm with slight hail\", 99: \"Thunderstorm with heavy hail\"\n",
    "        }\n",
    "\n",
    "        current = data[\"current\"]\n",
    "        weather_code = current.get(\"weather_code\", 0)\n",
    "\n",
    "        return {\n",
    "            \"location\": location.title(),\n",
    "            \"temperature\": f\"{current['temperature_2m']}°C\",\n",
    "            \"condition\": weather_codes.get(weather_code, \"Unknown\"),\n",
    "            \"humidity\": f\"{current['relative_humidity_2m']}%\",\n",
    "            \"wind_speed\": f\"{current['wind_speed_10m']} km/h\",\n",
    "            \"source\": \"Open-Meteo API via MCP\",\n",
    "            \"timestamp\": current[\"time\"]\n",
    "        }\n",
    "    except Exception as e:\n",
    "        return {\"error\": f\"Failed to fetch weather: {str(e)}\"}"
   ]
  },
  {
   "cell_type": "markdown",
   "id": "uoxf3j07m2o",
   "metadata": {},
   "source": [
    "## Testing the MCP Weather Tool\n",
    "\n",
    "Let's test our MCP weather tool by fetching real weather data for Singapore:"
   ]
  },
  {
   "cell_type": "code",
   "execution_count": 4,
   "id": "7si4yjfte1i",
   "metadata": {},
   "outputs": [
    {
     "name": "stdout",
     "output_type": "stream",
     "text": [
      "🌤️ Fetching real weather data for Singapore via MCP...\n",
      "\n",
      "Singapore Weather (Real-time data):\n",
      "{\n",
      "  \"location\": \"Singapore\",\n",
      "  \"temperature\": \"29.0\\u00b0C\",\n",
      "  \"condition\": \"Slight rain showers\",\n",
      "  \"humidity\": \"75%\",\n",
      "  \"wind_speed\": \"10.1 km/h\",\n",
      "  \"source\": \"Open-Meteo API via MCP\",\n",
      "  \"timestamp\": \"2025-09-18T16:15\"\n",
      "}\n",
      "\n",
      "==================================================\n",
      "\n",
      "🌍 Fetching weather for Tokyo...\n",
      "\n",
      "Tokyo Weather (Real-time data):\n",
      "{\n",
      "  \"location\": \"Tokyo\",\n",
      "  \"temperature\": \"28.5\\u00b0C\",\n",
      "  \"condition\": \"Mainly clear\",\n",
      "  \"humidity\": \"64%\",\n",
      "  \"wind_speed\": \"4.7 km/h\",\n",
      "  \"source\": \"Open-Meteo API via MCP\",\n",
      "  \"timestamp\": \"2025-09-18T17:15\"\n",
      "}\n"
     ]
    }
   ],
   "source": [
    "# Test the MCP tool directly - fetch real Singapore weather\n",
    "print(\"🌤️ Fetching real weather data for Singapore via MCP...\\n\")\n",
    "singapore_weather = asyncio.run(get_weather(\"Singapore\"))\n",
    "print(\"Singapore Weather (Real-time data):\")\n",
    "print(json.dumps(singapore_weather, indent=2))\n",
    "\n",
    "print(\"\\n\" + \"=\"*50 + \"\\n\")\n",
    "\n",
    "# Also test for another city\n",
    "print(\"🌍 Fetching weather for Tokyo...\\n\")\n",
    "tokyo_weather = asyncio.run(get_weather(\"Tokyo\"))\n",
    "print(\"Tokyo Weather (Real-time data):\")\n",
    "print(json.dumps(tokyo_weather, indent=2))"
   ]
  },
  {
   "cell_type": "markdown",
   "id": "anthropic-mcp",
   "metadata": {},
   "source": [
    "## Using Anthropic Messages API with MCP Concept\n",
    "\n",
    "Now let's demonstrate how this would work with Anthropic's Messages API. We'll create a conversation where Claude needs to fetch external data to answer a question."
   ]
  },
  {
   "cell_type": "code",
   "execution_count": 5,
   "id": "anthropic-demo",
   "metadata": {},
   "outputs": [
    {
     "name": "stdout",
     "output_type": "stream",
     "text": [
      "Available MCP tools:\n",
      "- get_weather: Get current weather information for a location. Defaults to Singapore if no location specified.\n"
     ]
    }
   ],
   "source": [
    "# Define tools for Claude to use (these match our MCP server tools)\n",
    "tools = [\n",
    "    {\n",
    "        \"name\": \"get_weather\",\n",
    "        \"description\": \"Get current weather information for a location. Defaults to Singapore if no location specified.\",\n",
    "        \"input_schema\": {\n",
    "            \"type\": \"object\",\n",
    "            \"properties\": {\n",
    "                \"location\": {\n",
    "                    \"type\": \"string\",\n",
    "                    \"description\": \"The city to get weather for (e.g., Singapore, Tokyo, London)\"\n",
    "                }\n",
    "            },\n",
    "            \"required\": []\n",
    "        }\n",
    "    }\n",
    "]\n",
    "\n",
    "print(\"Available MCP tools:\")\n",
    "for tool in tools:\n",
    "    print(f\"- {tool['name']}: {tool['description']}\")"
   ]
  },
  {
   "cell_type": "code",
   "execution_count": 6,
   "id": "tool-functions",
   "metadata": {},
   "outputs": [
    {
     "name": "stdout",
     "output_type": "stream",
     "text": [
      "🌤️ Testing MCP tool execution for Singapore:\n",
      "{\n",
      "  \"location\": \"Singapore\",\n",
      "  \"temperature\": \"28.9\\u00b0C\",\n",
      "  \"condition\": \"Slight rain showers\",\n",
      "  \"humidity\": \"76%\",\n",
      "  \"wind_speed\": \"9.8 km/h\",\n",
      "  \"source\": \"Open-Meteo API via MCP\",\n",
      "  \"timestamp\": \"2025-09-18T16:30\"\n",
      "}\n",
      "\n",
      "==================================================\n",
      "\n",
      "🌏 Testing MCP tool execution for Tokyo:\n",
      "{\n",
      "  \"location\": \"Tokyo\",\n",
      "  \"temperature\": \"28.1\\u00b0C\",\n",
      "  \"condition\": \"Mainly clear\",\n",
      "  \"humidity\": \"66%\",\n",
      "  \"wind_speed\": \"4.7 km/h\",\n",
      "  \"source\": \"Open-Meteo API via MCP\",\n",
      "  \"timestamp\": \"2025-09-18T17:30\"\n",
      "}\n"
     ]
    }
   ],
   "source": [
    "# Tool execution function (connecting to our MCP server)\n",
    "def execute_tool(tool_name, tool_input):\n",
    "    \"\"\"\n",
    "    Execute a tool call - this connects to our MCP server\n",
    "    \"\"\"\n",
    "    if tool_name == \"get_weather\":\n",
    "        # Call our actual MCP weather tool\n",
    "        location = tool_input.get(\"location\", \"Singapore\")\n",
    "        result = asyncio.run(get_weather(location))\n",
    "        return result\n",
    "    else:\n",
    "        return {\"error\": f\"Unknown tool: {tool_name}\"}\n",
    "\n",
    "# Test tool execution with real data\n",
    "print(\"🌤️ Testing MCP tool execution for Singapore:\")\n",
    "test_singapore = execute_tool(\"get_weather\", {\"location\": \"Singapore\"})\n",
    "print(json.dumps(test_singapore, indent=2))\n",
    "\n",
    "print(\"\\n\" + \"=\"*50 + \"\\n\")\n",
    "\n",
    "print(\"🌏 Testing MCP tool execution for Tokyo:\")\n",
    "test_tokyo = execute_tool(\"get_weather\", {\"location\": \"Tokyo\"})\n",
    "print(json.dumps(test_tokyo, indent=2))"
   ]
  },
  {
   "cell_type": "markdown",
   "id": "complete-demo",
   "metadata": {},
   "source": [
    "## Complete MCP-Style Conversation Demo\n",
    "\n",
    "Let's create a complete example showing how Claude would use MCP-style tools to answer user questions."
   ]
  },
  {
   "cell_type": "code",
   "execution_count": 7,
   "id": "conversation-demo",
   "metadata": {},
   "outputs": [],
   "source": [
    "# Simulate a conversation with tool usage\n",
    "def run_mcp_conversation(user_message):\n",
    "    print(f\"User: {user_message}\\n\")\n",
    "\n",
    "    # First API call to Claude\n",
    "    response = client.messages.create(\n",
    "        model=\"claude-3-5-haiku-20241022\",\n",
    "        max_tokens=1000,\n",
    "        tools=tools,\n",
    "        messages=[\n",
    "            {\n",
    "                \"role\": \"user\",\n",
    "                \"content\": user_message\n",
    "            }\n",
    "        ]\n",
    "    )\n",
    "\n",
    "    print(\"Claude's response:\")\n",
    "\n",
    "    # Check if Claude wants to use tools\n",
    "    if response.stop_reason == \"tool_use\":\n",
    "        print(\"Claude is calling MCP tools to get real weather data...\\n\")\n",
    "\n",
    "        # Extract tool calls\n",
    "        tool_results = []\n",
    "        messages = [\n",
    "            {\"role\": \"user\", \"content\": user_message},\n",
    "            {\"role\": \"assistant\", \"content\": response.content}\n",
    "        ]\n",
    "\n",
    "        for content_block in response.content:\n",
    "            if content_block.type == \"tool_use\":\n",
    "                tool_name = content_block.name\n",
    "                tool_input = content_block.input\n",
    "                tool_id = content_block.id\n",
    "\n",
    "                print(f\"🔧 Using MCP tool: {tool_name}\")\n",
    "                print(f\"📥 Input: {tool_input}\")\n",
    "\n",
    "                # Execute the tool (real MCP call)\n",
    "                tool_result = execute_tool(tool_name, tool_input)\n",
    "\n",
    "                print(f\"📤 Real data from MCP:\")\n",
    "                print(json.dumps(tool_result, indent=4))\n",
    "                print()\n",
    "\n",
    "                # Add tool result to conversation\n",
    "                tool_results.append({\n",
    "                    \"role\": \"user\",\n",
    "                    \"content\": [\n",
    "                        {\n",
    "                            \"type\": \"tool_result\",\n",
    "                            \"tool_use_id\": tool_id,\n",
    "                            \"content\": json.dumps(tool_result)\n",
    "                        }\n",
    "                    ]\n",
    "                })\n",
    "\n",
    "        # Add tool results to messages\n",
    "        messages.extend(tool_results)\n",
    "\n",
    "        # Get final response from Claude\n",
    "        final_response = client.messages.create(\n",
    "            model=\"claude-3-5-haiku-20241022\",\n",
    "            max_tokens=1000,\n",
    "            tools=tools,\n",
    "            messages=messages\n",
    "        )\n",
    "\n",
    "        print(\"Claude's final answer (based on real data):\")\n",
    "        for content_block in final_response.content:\n",
    "            if content_block.type == \"text\":\n",
    "                print(content_block.text)\n",
    "\n",
    "    else:\n",
    "        # Claude answered without tools\n",
    "        for content_block in response.content:\n",
    "            if content_block.type == \"text\":\n",
    "                print(content_block.text)\n",
    "\n",
    "    print(\"\\n\" + \"=\"*50 + \"\\n\")"
   ]
  },
  {
   "cell_type": "markdown",
   "id": "i2eo1i29gg",
   "metadata": {},
   "source": [
    "## MCP-Style Conversation Demo with Real Weather API\n",
    "\n",
    "Now let's see how Claude uses our MCP weather tool to answer questions with real-time data:"
   ]
  },
  {
   "cell_type": "code",
   "execution_count": 8,
   "id": "demo-conversations",
   "metadata": {},
   "outputs": [
    {
     "name": "stdout",
     "output_type": "stream",
     "text": [
      "🇸🇬 SINGAPORE WEATHER DEMO\n",
      "\n",
      "This will fetch REAL weather data for Singapore using MCP...\n",
      "\n",
      "User: What's the current weather in Singapore? Please provide all details.\n",
      "\n"
     ]
    },
    {
     "data": {
      "text/html": [
       "<pre style=\"white-space:pre;overflow-x:auto;line-height:normal;font-family:Menlo,'DejaVu Sans Mono',consolas,'Courier New',monospace\"><span style=\"color: #7fbfbf; text-decoration-color: #7fbfbf\">[09/18/25 16:58:50] </span><span style=\"color: #000080; text-decoration-color: #000080\">INFO    </span> HTTP Request: <span style=\"color: #808000; text-decoration-color: #808000; font-weight: bold\">POST</span> <span style=\"color: #0000ff; text-decoration-color: #0000ff; text-decoration: underline\">https://api.anthropic.com/v1/messages</span> <span style=\"color: #008000; text-decoration-color: #008000\">\"HTTP/1.1 200</span> <a href=\"file:///mnt/sda/yifen/myenv/lib/python3.12/site-packages/httpx/_client.py\" target=\"_blank\"><span style=\"color: #7f7f7f; text-decoration-color: #7f7f7f\">_client.py</span></a><span style=\"color: #7f7f7f; text-decoration-color: #7f7f7f\">:</span><a href=\"file:///mnt/sda/yifen/myenv/lib/python3.12/site-packages/httpx/_client.py#1025\" target=\"_blank\"><span style=\"color: #7f7f7f; text-decoration-color: #7f7f7f\">1025</span></a>\n",
       "<span style=\"color: #7fbfbf; text-decoration-color: #7fbfbf\">                    </span>         <span style=\"color: #008000; text-decoration-color: #008000\">OK\"</span>                                                                    <span style=\"color: #7f7f7f; text-decoration-color: #7f7f7f\">               </span>\n",
       "</pre>\n"
      ],
      "text/plain": [
       "\u001b[2;36m[09/18/25 16:58:50]\u001b[0m\u001b[2;36m \u001b[0m\u001b[34mINFO    \u001b[0m HTTP Request: \u001b[1;33mPOST\u001b[0m \u001b[4;94mhttps://api.anthropic.com/v1/messages\u001b[0m \u001b[32m\"HTTP/1.1 200\u001b[0m \u001b]8;id=434247;file:///mnt/sda/yifen/myenv/lib/python3.12/site-packages/httpx/_client.py\u001b\\\u001b[2m_client.py\u001b[0m\u001b]8;;\u001b\\\u001b[2m:\u001b[0m\u001b]8;id=863759;file:///mnt/sda/yifen/myenv/lib/python3.12/site-packages/httpx/_client.py#1025\u001b\\\u001b[2m1025\u001b[0m\u001b]8;;\u001b\\\n",
       "\u001b[2;36m                    \u001b[0m         \u001b[32mOK\"\u001b[0m                                                                    \u001b[2m               \u001b[0m\n"
      ]
     },
     "metadata": {},
     "output_type": "display_data"
    },
    {
     "name": "stdout",
     "output_type": "stream",
     "text": [
      "Claude's response:\n",
      "Claude is calling MCP tools to get real weather data...\n",
      "\n",
      "🔧 Using MCP tool: get_weather\n",
      "📥 Input: {'location': 'Singapore'}\n",
      "📤 Real data from MCP:\n",
      "{\n",
      "    \"location\": \"Singapore\",\n",
      "    \"temperature\": \"28.7\\u00b0C\",\n",
      "    \"condition\": \"Slight rain showers\",\n",
      "    \"humidity\": \"77%\",\n",
      "    \"wind_speed\": \"9.2 km/h\",\n",
      "    \"source\": \"Open-Meteo API via MCP\",\n",
      "    \"timestamp\": \"2025-09-18T16:45\"\n",
      "}\n",
      "\n"
     ]
    },
    {
     "data": {
      "text/html": [
       "<pre style=\"white-space:pre;overflow-x:auto;line-height:normal;font-family:Menlo,'DejaVu Sans Mono',consolas,'Courier New',monospace\"><span style=\"color: #7fbfbf; text-decoration-color: #7fbfbf\">[09/18/25 16:58:54] </span><span style=\"color: #000080; text-decoration-color: #000080\">INFO    </span> HTTP Request: <span style=\"color: #808000; text-decoration-color: #808000; font-weight: bold\">POST</span> <span style=\"color: #0000ff; text-decoration-color: #0000ff; text-decoration: underline\">https://api.anthropic.com/v1/messages</span> <span style=\"color: #008000; text-decoration-color: #008000\">\"HTTP/1.1 200</span> <a href=\"file:///mnt/sda/yifen/myenv/lib/python3.12/site-packages/httpx/_client.py\" target=\"_blank\"><span style=\"color: #7f7f7f; text-decoration-color: #7f7f7f\">_client.py</span></a><span style=\"color: #7f7f7f; text-decoration-color: #7f7f7f\">:</span><a href=\"file:///mnt/sda/yifen/myenv/lib/python3.12/site-packages/httpx/_client.py#1025\" target=\"_blank\"><span style=\"color: #7f7f7f; text-decoration-color: #7f7f7f\">1025</span></a>\n",
       "<span style=\"color: #7fbfbf; text-decoration-color: #7fbfbf\">                    </span>         <span style=\"color: #008000; text-decoration-color: #008000\">OK\"</span>                                                                    <span style=\"color: #7f7f7f; text-decoration-color: #7f7f7f\">               </span>\n",
       "</pre>\n"
      ],
      "text/plain": [
       "\u001b[2;36m[09/18/25 16:58:54]\u001b[0m\u001b[2;36m \u001b[0m\u001b[34mINFO    \u001b[0m HTTP Request: \u001b[1;33mPOST\u001b[0m \u001b[4;94mhttps://api.anthropic.com/v1/messages\u001b[0m \u001b[32m\"HTTP/1.1 200\u001b[0m \u001b]8;id=788509;file:///mnt/sda/yifen/myenv/lib/python3.12/site-packages/httpx/_client.py\u001b\\\u001b[2m_client.py\u001b[0m\u001b]8;;\u001b\\\u001b[2m:\u001b[0m\u001b]8;id=514405;file:///mnt/sda/yifen/myenv/lib/python3.12/site-packages/httpx/_client.py#1025\u001b\\\u001b[2m1025\u001b[0m\u001b]8;;\u001b\\\n",
       "\u001b[2;36m                    \u001b[0m         \u001b[32mOK\"\u001b[0m                                                                    \u001b[2m               \u001b[0m\n"
      ]
     },
     "metadata": {},
     "output_type": "display_data"
    },
    {
     "name": "stdout",
     "output_type": "stream",
     "text": [
      "Claude's final answer (based on real data):\n",
      "Here are the detailed weather conditions for Singapore:\n",
      "\n",
      "🌡️ Temperature: 28.7°C \n",
      "☁️ Current Condition: Slight rain showers\n",
      "💧 Humidity: 77%\n",
      "💨 Wind Speed: 9.2 km/h\n",
      "\n",
      "The weather seems to be typical for Singapore - warm with some light rain. The temperature is quite comfortable at around 28.7°C, which is characteristic of Singapore's tropical climate. The slight rain showers and high humidity are also common in this region. The wind is blowing gently at 9.2 km/h, which might provide a bit of cooling effect.\n",
      "\n",
      "Would you like me to elaborate on any of these weather details?\n",
      "\n",
      "==================================================\n",
      "\n"
     ]
    }
   ],
   "source": [
    "# Demo 1: Singapore weather query (real-time data!)\n",
    "print(\"🇸🇬 SINGAPORE WEATHER DEMO\\n\")\n",
    "print(\"This will fetch REAL weather data for Singapore using MCP...\\n\")\n",
    "run_mcp_conversation(\"What's the current weather in Singapore? Please provide all details.\")"
   ]
  },
  {
   "cell_type": "code",
   "execution_count": 9,
   "id": "2ea1acea",
   "metadata": {},
   "outputs": [
    {
     "name": "stdout",
     "output_type": "stream",
     "text": [
      "🌏 WEATHER COMPARISON DEMO\n",
      "\n",
      "User: Can you compare the current weather between Singapore and Tokyo? Which city is warmer?\n",
      "\n"
     ]
    },
    {
     "data": {
      "text/html": [
       "<pre style=\"white-space:pre;overflow-x:auto;line-height:normal;font-family:Menlo,'DejaVu Sans Mono',consolas,'Courier New',monospace\"><span style=\"color: #7fbfbf; text-decoration-color: #7fbfbf\">[09/18/25 17:01:07] </span><span style=\"color: #000080; text-decoration-color: #000080\">INFO    </span> HTTP Request: <span style=\"color: #808000; text-decoration-color: #808000; font-weight: bold\">POST</span> <span style=\"color: #0000ff; text-decoration-color: #0000ff; text-decoration: underline\">https://api.anthropic.com/v1/messages</span> <span style=\"color: #008000; text-decoration-color: #008000\">\"HTTP/1.1 200</span> <a href=\"file:///mnt/sda/yifen/myenv/lib/python3.12/site-packages/httpx/_client.py\" target=\"_blank\"><span style=\"color: #7f7f7f; text-decoration-color: #7f7f7f\">_client.py</span></a><span style=\"color: #7f7f7f; text-decoration-color: #7f7f7f\">:</span><a href=\"file:///mnt/sda/yifen/myenv/lib/python3.12/site-packages/httpx/_client.py#1025\" target=\"_blank\"><span style=\"color: #7f7f7f; text-decoration-color: #7f7f7f\">1025</span></a>\n",
       "<span style=\"color: #7fbfbf; text-decoration-color: #7fbfbf\">                    </span>         <span style=\"color: #008000; text-decoration-color: #008000\">OK\"</span>                                                                    <span style=\"color: #7f7f7f; text-decoration-color: #7f7f7f\">               </span>\n",
       "</pre>\n"
      ],
      "text/plain": [
       "\u001b[2;36m[09/18/25 17:01:07]\u001b[0m\u001b[2;36m \u001b[0m\u001b[34mINFO    \u001b[0m HTTP Request: \u001b[1;33mPOST\u001b[0m \u001b[4;94mhttps://api.anthropic.com/v1/messages\u001b[0m \u001b[32m\"HTTP/1.1 200\u001b[0m \u001b]8;id=505621;file:///mnt/sda/yifen/myenv/lib/python3.12/site-packages/httpx/_client.py\u001b\\\u001b[2m_client.py\u001b[0m\u001b]8;;\u001b\\\u001b[2m:\u001b[0m\u001b]8;id=298383;file:///mnt/sda/yifen/myenv/lib/python3.12/site-packages/httpx/_client.py#1025\u001b\\\u001b[2m1025\u001b[0m\u001b]8;;\u001b\\\n",
       "\u001b[2;36m                    \u001b[0m         \u001b[32mOK\"\u001b[0m                                                                    \u001b[2m               \u001b[0m\n"
      ]
     },
     "metadata": {},
     "output_type": "display_data"
    },
    {
     "name": "stdout",
     "output_type": "stream",
     "text": [
      "Claude's response:\n",
      "Claude is calling MCP tools to get real weather data...\n",
      "\n",
      "🔧 Using MCP tool: get_weather\n",
      "📥 Input: {'location': 'Singapore'}\n",
      "📤 Real data from MCP:\n",
      "{\n",
      "    \"location\": \"Singapore\",\n",
      "    \"temperature\": \"28.6\\u00b0C\",\n",
      "    \"condition\": \"Overcast\",\n",
      "    \"humidity\": \"77%\",\n",
      "    \"wind_speed\": \"8.9 km/h\",\n",
      "    \"source\": \"Open-Meteo API via MCP\",\n",
      "    \"timestamp\": \"2025-09-18T17:00\"\n",
      "}\n",
      "\n",
      "🔧 Using MCP tool: get_weather\n",
      "📥 Input: {'location': 'Tokyo'}\n",
      "📤 Real data from MCP:\n",
      "{\n",
      "    \"location\": \"Tokyo\",\n",
      "    \"temperature\": \"27.5\\u00b0C\",\n",
      "    \"condition\": \"Mainly clear\",\n",
      "    \"humidity\": \"69%\",\n",
      "    \"wind_speed\": \"4.4 km/h\",\n",
      "    \"source\": \"Open-Meteo API via MCP\",\n",
      "    \"timestamp\": \"2025-09-18T18:00\"\n",
      "}\n",
      "\n"
     ]
    },
    {
     "data": {
      "text/html": [
       "<pre style=\"white-space:pre;overflow-x:auto;line-height:normal;font-family:Menlo,'DejaVu Sans Mono',consolas,'Courier New',monospace\"><span style=\"color: #7fbfbf; text-decoration-color: #7fbfbf\">[09/18/25 17:01:12] </span><span style=\"color: #000080; text-decoration-color: #000080\">INFO    </span> HTTP Request: <span style=\"color: #808000; text-decoration-color: #808000; font-weight: bold\">POST</span> <span style=\"color: #0000ff; text-decoration-color: #0000ff; text-decoration: underline\">https://api.anthropic.com/v1/messages</span> <span style=\"color: #008000; text-decoration-color: #008000\">\"HTTP/1.1 200</span> <a href=\"file:///mnt/sda/yifen/myenv/lib/python3.12/site-packages/httpx/_client.py\" target=\"_blank\"><span style=\"color: #7f7f7f; text-decoration-color: #7f7f7f\">_client.py</span></a><span style=\"color: #7f7f7f; text-decoration-color: #7f7f7f\">:</span><a href=\"file:///mnt/sda/yifen/myenv/lib/python3.12/site-packages/httpx/_client.py#1025\" target=\"_blank\"><span style=\"color: #7f7f7f; text-decoration-color: #7f7f7f\">1025</span></a>\n",
       "<span style=\"color: #7fbfbf; text-decoration-color: #7fbfbf\">                    </span>         <span style=\"color: #008000; text-decoration-color: #008000\">OK\"</span>                                                                    <span style=\"color: #7f7f7f; text-decoration-color: #7f7f7f\">               </span>\n",
       "</pre>\n"
      ],
      "text/plain": [
       "\u001b[2;36m[09/18/25 17:01:12]\u001b[0m\u001b[2;36m \u001b[0m\u001b[34mINFO    \u001b[0m HTTP Request: \u001b[1;33mPOST\u001b[0m \u001b[4;94mhttps://api.anthropic.com/v1/messages\u001b[0m \u001b[32m\"HTTP/1.1 200\u001b[0m \u001b]8;id=251241;file:///mnt/sda/yifen/myenv/lib/python3.12/site-packages/httpx/_client.py\u001b\\\u001b[2m_client.py\u001b[0m\u001b]8;;\u001b\\\u001b[2m:\u001b[0m\u001b]8;id=618402;file:///mnt/sda/yifen/myenv/lib/python3.12/site-packages/httpx/_client.py#1025\u001b\\\u001b[2m1025\u001b[0m\u001b]8;;\u001b\\\n",
       "\u001b[2;36m                    \u001b[0m         \u001b[32mOK\"\u001b[0m                                                                    \u001b[2m               \u001b[0m\n"
      ]
     },
     "metadata": {},
     "output_type": "display_data"
    },
    {
     "name": "stdout",
     "output_type": "stream",
     "text": [
      "Claude's final answer (based on real data):\n",
      "Let me break down the weather comparison for you:\n",
      "\n",
      "Singapore:\n",
      "- Temperature: 28.6°C\n",
      "- Condition: Overcast\n",
      "- Humidity: 77%\n",
      "\n",
      "Tokyo:\n",
      "- Temperature: 27.5°C\n",
      "- Condition: Mainly clear\n",
      "- Humidity: 69%\n",
      "\n",
      "Singapore is slightly warmer, with a temperature of 28.6°C compared to Tokyo's 27.5°C. The difference is about 1.1°C. \n",
      "\n",
      "Both cities are experiencing warm weather, which is typical for their tropical and subtropical climates. Singapore is slightly warmer and more humid, with an overcast sky, while Tokyo is a bit cooler with mainly clear skies.\n",
      "\n",
      "So to directly answer your question: Singapore is the warmer city at the moment.\n",
      "\n",
      "==================================================\n",
      "\n"
     ]
    }
   ],
   "source": [
    "# Demo 2: Weather comparison\n",
    "print(\"🌏 WEATHER COMPARISON DEMO\\n\")\n",
    "run_mcp_conversation(\"Can you compare the current weather between Singapore and Tokyo? Which city is warmer?\")"
   ]
  },
  {
   "cell_type": "code",
   "execution_count": 10,
   "id": "demo-mixed",
   "metadata": {},
   "outputs": [
    {
     "name": "stdout",
     "output_type": "stream",
     "text": [
      "✈️ TRAVEL PLANNING DEMO\n",
      "\n",
      "User: I'm planning to travel from Singapore to London next week. How's the weather difference between these two cities right now?\n",
      "\n"
     ]
    },
    {
     "data": {
      "text/html": [
       "<pre style=\"white-space:pre;overflow-x:auto;line-height:normal;font-family:Menlo,'DejaVu Sans Mono',consolas,'Courier New',monospace\"><span style=\"color: #7fbfbf; text-decoration-color: #7fbfbf\">[09/18/25 17:02:13] </span><span style=\"color: #000080; text-decoration-color: #000080\">INFO    </span> HTTP Request: <span style=\"color: #808000; text-decoration-color: #808000; font-weight: bold\">POST</span> <span style=\"color: #0000ff; text-decoration-color: #0000ff; text-decoration: underline\">https://api.anthropic.com/v1/messages</span> <span style=\"color: #008000; text-decoration-color: #008000\">\"HTTP/1.1 200</span> <a href=\"file:///mnt/sda/yifen/myenv/lib/python3.12/site-packages/httpx/_client.py\" target=\"_blank\"><span style=\"color: #7f7f7f; text-decoration-color: #7f7f7f\">_client.py</span></a><span style=\"color: #7f7f7f; text-decoration-color: #7f7f7f\">:</span><a href=\"file:///mnt/sda/yifen/myenv/lib/python3.12/site-packages/httpx/_client.py#1025\" target=\"_blank\"><span style=\"color: #7f7f7f; text-decoration-color: #7f7f7f\">1025</span></a>\n",
       "<span style=\"color: #7fbfbf; text-decoration-color: #7fbfbf\">                    </span>         <span style=\"color: #008000; text-decoration-color: #008000\">OK\"</span>                                                                    <span style=\"color: #7f7f7f; text-decoration-color: #7f7f7f\">               </span>\n",
       "</pre>\n"
      ],
      "text/plain": [
       "\u001b[2;36m[09/18/25 17:02:13]\u001b[0m\u001b[2;36m \u001b[0m\u001b[34mINFO    \u001b[0m HTTP Request: \u001b[1;33mPOST\u001b[0m \u001b[4;94mhttps://api.anthropic.com/v1/messages\u001b[0m \u001b[32m\"HTTP/1.1 200\u001b[0m \u001b]8;id=249908;file:///mnt/sda/yifen/myenv/lib/python3.12/site-packages/httpx/_client.py\u001b\\\u001b[2m_client.py\u001b[0m\u001b]8;;\u001b\\\u001b[2m:\u001b[0m\u001b]8;id=479354;file:///mnt/sda/yifen/myenv/lib/python3.12/site-packages/httpx/_client.py#1025\u001b\\\u001b[2m1025\u001b[0m\u001b]8;;\u001b\\\n",
       "\u001b[2;36m                    \u001b[0m         \u001b[32mOK\"\u001b[0m                                                                    \u001b[2m               \u001b[0m\n"
      ]
     },
     "metadata": {},
     "output_type": "display_data"
    },
    {
     "name": "stdout",
     "output_type": "stream",
     "text": [
      "Claude's response:\n",
      "Claude is calling MCP tools to get real weather data...\n",
      "\n",
      "🔧 Using MCP tool: get_weather\n",
      "📥 Input: {'location': 'Singapore'}\n",
      "📤 Real data from MCP:\n",
      "{\n",
      "    \"location\": \"Singapore\",\n",
      "    \"temperature\": \"28.6\\u00b0C\",\n",
      "    \"condition\": \"Overcast\",\n",
      "    \"humidity\": \"77%\",\n",
      "    \"wind_speed\": \"8.9 km/h\",\n",
      "    \"source\": \"Open-Meteo API via MCP\",\n",
      "    \"timestamp\": \"2025-09-18T17:00\"\n",
      "}\n",
      "\n",
      "🔧 Using MCP tool: get_weather\n",
      "📥 Input: {'location': 'London'}\n",
      "📤 Real data from MCP:\n",
      "{\n",
      "    \"location\": \"London\",\n",
      "    \"temperature\": \"19.8\\u00b0C\",\n",
      "    \"condition\": \"Partly cloudy\",\n",
      "    \"humidity\": \"78%\",\n",
      "    \"wind_speed\": \"18.2 km/h\",\n",
      "    \"source\": \"Open-Meteo API via MCP\",\n",
      "    \"timestamp\": \"2025-09-18T10:00\"\n",
      "}\n",
      "\n"
     ]
    },
    {
     "data": {
      "text/html": [
       "<pre style=\"white-space:pre;overflow-x:auto;line-height:normal;font-family:Menlo,'DejaVu Sans Mono',consolas,'Courier New',monospace\"><span style=\"color: #7fbfbf; text-decoration-color: #7fbfbf\">[09/18/25 17:02:21] </span><span style=\"color: #000080; text-decoration-color: #000080\">INFO    </span> HTTP Request: <span style=\"color: #808000; text-decoration-color: #808000; font-weight: bold\">POST</span> <span style=\"color: #0000ff; text-decoration-color: #0000ff; text-decoration: underline\">https://api.anthropic.com/v1/messages</span> <span style=\"color: #008000; text-decoration-color: #008000\">\"HTTP/1.1 200</span> <a href=\"file:///mnt/sda/yifen/myenv/lib/python3.12/site-packages/httpx/_client.py\" target=\"_blank\"><span style=\"color: #7f7f7f; text-decoration-color: #7f7f7f\">_client.py</span></a><span style=\"color: #7f7f7f; text-decoration-color: #7f7f7f\">:</span><a href=\"file:///mnt/sda/yifen/myenv/lib/python3.12/site-packages/httpx/_client.py#1025\" target=\"_blank\"><span style=\"color: #7f7f7f; text-decoration-color: #7f7f7f\">1025</span></a>\n",
       "<span style=\"color: #7fbfbf; text-decoration-color: #7fbfbf\">                    </span>         <span style=\"color: #008000; text-decoration-color: #008000\">OK\"</span>                                                                    <span style=\"color: #7f7f7f; text-decoration-color: #7f7f7f\">               </span>\n",
       "</pre>\n"
      ],
      "text/plain": [
       "\u001b[2;36m[09/18/25 17:02:21]\u001b[0m\u001b[2;36m \u001b[0m\u001b[34mINFO    \u001b[0m HTTP Request: \u001b[1;33mPOST\u001b[0m \u001b[4;94mhttps://api.anthropic.com/v1/messages\u001b[0m \u001b[32m\"HTTP/1.1 200\u001b[0m \u001b]8;id=336420;file:///mnt/sda/yifen/myenv/lib/python3.12/site-packages/httpx/_client.py\u001b\\\u001b[2m_client.py\u001b[0m\u001b]8;;\u001b\\\u001b[2m:\u001b[0m\u001b]8;id=930211;file:///mnt/sda/yifen/myenv/lib/python3.12/site-packages/httpx/_client.py#1025\u001b\\\u001b[2m1025\u001b[0m\u001b]8;;\u001b\\\n",
       "\u001b[2;36m                    \u001b[0m         \u001b[32mOK\"\u001b[0m                                                                    \u001b[2m               \u001b[0m\n"
      ]
     },
     "metadata": {},
     "output_type": "display_data"
    },
    {
     "name": "stdout",
     "output_type": "stream",
     "text": [
      "Claude's final answer (based on real data):\n",
      "Let me break down the weather differences for you:\n",
      "\n",
      "Singapore:\n",
      "- Temperature: 28.6°C (quite warm)\n",
      "- Condition: Overcast\n",
      "- Humidity: 77%\n",
      "- Wind Speed: 8.9 km/h\n",
      "\n",
      "London:\n",
      "- Temperature: 19.8°C (cooler)\n",
      "- Condition: Partly cloudy\n",
      "- Humidity: 78%\n",
      "- Wind Speed: 18.2 km/h\n",
      "\n",
      "Key differences:\n",
      "1. Temperature: There's a significant temperature difference of about 8.8°C. Singapore is much warmer, which is typical of its tropical climate.\n",
      "2. Conditions: Singapore is overcast, while London is partly cloudy.\n",
      "3. Wind: London has stronger winds at 18.2 km/h compared to Singapore's 8.9 km/h.\n",
      "4. Humidity: Both cities have similar humidity levels around 77-78%.\n",
      "\n",
      "Recommendations:\n",
      "- Pack layers for London, as the temperature is cooler\n",
      "- Bring a light jacket or sweater\n",
      "- Consider a wind-resistant jacket due to the higher wind speed\n",
      "- The weather is mild, so comfortable clothing should suffice\n",
      "\n",
      "The weather difference highlights the contrast between Singapore's tropical climate and London's more temperate conditions. Enjoy your trip and make sure to pack accordingly!\n",
      "\n",
      "==================================================\n",
      "\n"
     ]
    }
   ],
   "source": [
    "# Demo 3: Travel planning with real weather data\n",
    "print(\"✈️ TRAVEL PLANNING DEMO\\n\")\n",
    "run_mcp_conversation(\"I'm planning to travel from Singapore to London next week. How's the weather difference between these two cities right now?\")"
   ]
  }
 ],
 "metadata": {
  "kernelspec": {
   "display_name": "myenv",
   "language": "python",
   "name": "python3"
  },
  "language_info": {
   "codemirror_mode": {
    "name": "ipython",
    "version": 3
   },
   "file_extension": ".py",
   "mimetype": "text/x-python",
   "name": "python",
   "nbconvert_exporter": "python",
   "pygments_lexer": "ipython3",
   "version": "3.12.3"
  }
 },
 "nbformat": 4,
 "nbformat_minor": 5
}
