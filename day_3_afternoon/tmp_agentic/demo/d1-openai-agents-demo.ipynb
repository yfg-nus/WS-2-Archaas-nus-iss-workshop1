{
 "cells": [
  {
   "cell_type": "markdown",
   "metadata": {},
   "source": [
    "# OpenAI Agents SDK - Brief Demo\n",
    "\n",
    "Quick demonstration of four key concepts in the OpenAI Agents SDK:\n",
    "1. **Agents** - Defining and running specialized AI agents\n",
    "2. **Handoffs** - Agents transferring control to others\n",
    "3. **Guardrails** - Input/output validation\n",
    "4. **Sessions** - Stateful conversation history"
   ]
  },
  {
   "cell_type": "code",
   "execution_count": 1,
   "metadata": {},
   "outputs": [
    {
     "name": "stdout",
     "output_type": "stream",
     "text": [
      "✅ OpenAI Agents SDK loaded\n"
     ]
    }
   ],
   "source": [
    "import os\n",
    "from dotenv import load_dotenv\n",
    "from agents import Agent, Runner, SQLiteSession\n",
    "import asyncio\n",
    "\n",
    "# Load environment variables\n",
    "load_dotenv(override=True)\n",
    "\n",
    "print(\"✅ OpenAI Agents SDK loaded\")"
   ]
  },
  {
   "cell_type": "markdown",
   "metadata": {},
   "source": [
    "## 1. Agents - Define and Run Specialized AI Agents"
   ]
  },
  {
   "cell_type": "code",
   "execution_count": 2,
   "metadata": {},
   "outputs": [
    {
     "name": "stdout",
     "output_type": "stream",
     "text": [
      "Math Agent: 5 + 3 = 8\n",
      "\n",
      "History Agent: World War II took place from September 1, 1939, when Germany invaded Poland, to September 2, 1945, when Japan formally surrendered. It was the deadliest conflict in human history, involving most of the world's nations.\n"
     ]
    }
   ],
   "source": [
    "# Create specialized agents with specific instructions\n",
    "math_agent = Agent(\n",
    "    name=\"Math Agent\",\n",
    "    instructions=\"You solve math problems step by step. Be concise.\"\n",
    ")\n",
    "\n",
    "history_agent = Agent(\n",
    "    name=\"History Agent\",\n",
    "    instructions=\"You answer history questions with dates and context. Be concise.\"\n",
    ")\n",
    "\n",
    "# Actually run the agents\n",
    "async def demo_agents():\n",
    "    # Test math agent\n",
    "    math_result = await Runner.run(math_agent, \"What is 5 + 3?\")\n",
    "    print(f\"Math Agent: {math_result.final_output}\\n\")\n",
    "\n",
    "    # Test history agent\n",
    "    history_result = await Runner.run(history_agent, \"When was World War II?\")\n",
    "    print(f\"History Agent: {history_result.final_output}\")\n",
    "\n",
    "await demo_agents()"
   ]
  },
  {
   "cell_type": "markdown",
   "metadata": {},
   "source": [
    "## 2. Handoffs - Agents Transfer Control"
   ]
  },
  {
   "cell_type": "code",
   "execution_count": 3,
   "metadata": {},
   "outputs": [
    {
     "name": "stdout",
     "output_type": "stream",
     "text": [
      "Agent(name='Math Agent', handoff_description=None, tools=[], mcp_servers=[], mcp_config={}, instructions='You solve math problems step by step. Be concise.', prompt=None, handoffs=[], model=None, model_settings=ModelSettings(temperature=None, top_p=None, frequency_penalty=None, presence_penalty=None, tool_choice=None, parallel_tool_calls=None, truncation=None, max_tokens=None, reasoning=None, verbosity=None, metadata=None, store=None, include_usage=None, response_include=None, top_logprobs=None, extra_query=None, extra_body=None, extra_headers=None, extra_args=None), input_guardrails=[], output_guardrails=[], output_type=None, hooks=None, tool_use_behavior='run_llm_again', reset_tool_choice=True)\n",
      "Triage: 10 divided by 2 is:\n",
      "\n",
      "10 ÷ 2 = 5\n",
      "\n",
      "Final answer: 5\n",
      "Agent(name='History Agent', handoff_description=None, tools=[], mcp_servers=[], mcp_config={}, instructions='You answer history questions with dates and context. Be concise.', prompt=None, handoffs=[], model=None, model_settings=ModelSettings(temperature=None, top_p=None, frequency_penalty=None, presence_penalty=None, tool_choice=None, parallel_tool_calls=None, truncation=None, max_tokens=None, reasoning=None, verbosity=None, metadata=None, store=None, include_usage=None, response_include=None, top_logprobs=None, extra_query=None, extra_body=None, extra_headers=None, extra_args=None), input_guardrails=[], output_guardrails=[], output_type=None, hooks=None, tool_use_behavior='run_llm_again', reset_tool_choice=True)\n",
      "Triage: Singapore gained independence on 9 August 1965, when it separated from Malaysia to become a sovereign nation. This followed political tensions and disagreements with the Malaysian federal government.\n"
     ]
    }
   ],
   "source": [
    "# Triage agent can hand off to specialized agents\n",
    "triage_agent = Agent(\n",
    "    name=\"Triage Agent\",\n",
    "    instructions=\"Route math questions to Math Agent, history to History Agent. Briefly say who you're routing to.\",\n",
    "    handoffs=[math_agent, history_agent]\n",
    ")\n",
    "\n",
    "# Demonstrate actual handoff\n",
    "async def demo_handoff():\n",
    "    result = await Runner.run(triage_agent, \"What is 10 divided by 2?\")\n",
    "    print(result.last_agent)\n",
    "    print(f\"Triage: {result.final_output}\")\n",
    "await demo_handoff()\n",
    "\n",
    "# Demonstrate actual handoff\n",
    "async def demo_handoff2():\n",
    "    result = await Runner.run(triage_agent, \"When did Singapore gain independence?\")\n",
    "    print(result.last_agent)\n",
    "    print(f\"Triage: {result.final_output}\")\n",
    "await demo_handoff2()"
   ]
  },
  {
   "cell_type": "markdown",
   "metadata": {},
   "source": [
    "## 3. Guardrails - Input Validation (Working Demo)"
   ]
  },
  {
   "cell_type": "code",
   "execution_count": 4,
   "metadata": {},
   "outputs": [
    {
     "name": "stdout",
     "output_type": "stream",
     "text": [
      "Testing input validation through agent behavior:\n",
      "\n",
      "✅ Math question: 5 + 3 = 8\n",
      "\n",
      "✅ History question: The American Revolution took place from 1775 to 1783. It was a conflict between the thirteen American colonies and Great Britain, leading to the independence of the United States.\n",
      "\n",
      "❌ Weather question: I can only help with math or history questions.\n"
     ]
    }
   ],
   "source": [
    "# Create an agent with validation built into instructions\n",
    "# This demonstrates guardrail concept through agent behavior\n",
    "restricted_agent = Agent(\n",
    "    name=\"Restricted Agent\",\n",
    "    instructions=\"\"\"You ONLY answer math or history questions.\n",
    "    If asked about anything else (weather, sports, food, etc.), respond:\n",
    "    'I can only help with math or history questions.'\"\"\"\n",
    ")\n",
    "\n",
    "async def demo_guardrails():\n",
    "    print(\"Testing input validation through agent behavior:\\n\")\n",
    "\n",
    "    # Valid: Math question\n",
    "    result = await Runner.run(restricted_agent, \"What is 5 + 3?\")\n",
    "    print(f\"✅ Math question: {result.final_output}\\n\")\n",
    "\n",
    "    # Valid: History question\n",
    "    result = await Runner.run(restricted_agent, \"When was the American Revolution?\")\n",
    "    print(f\"✅ History question: {result.final_output}\\n\")\n",
    "\n",
    "    # Invalid: Weather question (agent should refuse)\n",
    "    result = await Runner.run(restricted_agent, \"What's the weather today?\")\n",
    "    print(f\"❌ Weather question: {result.final_output}\")\n",
    "\n",
    "await demo_guardrails()"
   ]
  },
  {
   "cell_type": "markdown",
   "metadata": {},
   "source": [
    "## 4. Sessions - Stateful Conversation History"
   ]
  },
  {
   "cell_type": "code",
   "execution_count": 5,
   "metadata": {},
   "outputs": [
    {
     "name": "stdout",
     "output_type": "stream",
     "text": [
      "With Sessions - Stateful conversation:\n",
      "\n",
      "Q1: Calculate 4 * 4\n",
      "A1: 4 * 4 = 16\n",
      "\n",
      "Q2: Now multiply that result by 3\n",
      "A2: 16 × 3 = 48\n",
      "\n",
      "✅ Session maintains conversation history!\n"
     ]
    }
   ],
   "source": [
    "# Sessions maintain conversation history across interactions\n",
    "async def demo_sessions():\n",
    "    # Create a session for maintaining state\n",
    "    session = SQLiteSession(\"demo_conversation\")\n",
    "\n",
    "    print(\"With Sessions - Stateful conversation:\\n\")\n",
    "\n",
    "    # First interaction\n",
    "    result1 = await Runner.run(\n",
    "        math_agent,\n",
    "        \"Calculate 4 * 4\",\n",
    "        session=session\n",
    "    )\n",
    "    print(f\"Q1: Calculate 4 * 4\")\n",
    "    print(f\"A1: {result1.final_output}\\n\")\n",
    "\n",
    "    # Second interaction - agent remembers previous context\n",
    "    result2 = await Runner.run(\n",
    "        math_agent,\n",
    "        \"Now multiply that result by 3\",\n",
    "        session=session\n",
    "    )\n",
    "    print(f\"Q2: Now multiply that result by 3\")\n",
    "    print(f\"A2: {result2.final_output}\")\n",
    "    print(\"\\n✅ Session maintains conversation history!\")\n",
    "\n",
    "await demo_sessions()"
   ]
  },
  {
   "cell_type": "markdown",
   "metadata": {},
   "source": [
    "## Summary\n",
    "\n",
    "**OpenAI Agents SDK** demonstrated:\n",
    "- **Agents**: Specialized AI agents processing real requests\n",
    "- **Handoffs**: Multi-agent workflows with control transfer\n",
    "- **Guardrails**: Input validation through agent behavior\n",
    "- **Sessions**: Stateful conversations with automatic history management using SQLiteSession\n",
    "\n",
    "Each concept was shown with actual running code demonstrating real agent behavior."
   ]
  }
 ],
 "metadata": {
  "kernelspec": {
   "display_name": "archaas_env",
   "language": "python",
   "name": "archaas_env"
  },
  "language_info": {
   "codemirror_mode": {
    "name": "ipython",
    "version": 3
   },
   "file_extension": ".py",
   "mimetype": "text/x-python",
   "name": "python",
   "nbconvert_exporter": "python",
   "pygments_lexer": "ipython3",
   "version": "3.12.3"
  }
 },
 "nbformat": 4,
 "nbformat_minor": 4
}
