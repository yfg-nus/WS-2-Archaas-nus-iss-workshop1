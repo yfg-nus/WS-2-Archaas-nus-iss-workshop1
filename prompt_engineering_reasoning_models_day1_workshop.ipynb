{
 "cells": [
  {
   "cell_type": "markdown",
   "metadata": {},
   "source": [
    "# How to Prompt with the Reasoning Engine\n",
    "\n",
    "This notebook demonstrates how to effectively use reasoning models like gpt-5 for various tasks, including structured prompting, few-shot learning, and generating responses with specific policies. Below is a detailed guide to help students navigate and understand the notebook.\n",
    "\n",
    "## 1. Introduction\n",
    "This notebook is designed to teach students how to:\n",
    "* Load and configure API keys for reasoning models.\n",
    "* List available OpenAI models programmatically.\n",
    "* Apply best practices for prompting reasoning models.\n",
    "* Use structured formats and few-shot examples to improve model responses.\n",
    "\n",
    "## 2. Prerequisites\n",
    "Before running the notebook, ensure the following:\n",
    "\n",
    "Python Environment: Install Python 3.8+.\n",
    "Required Libraries:\n",
    "openai\n",
    "dotenv\n",
    "IPython\n",
    "API Keys:\n",
    "Obtain API keys for OpenAI and Anthropic (if applicable).\n",
    "Store them in a .env file in the same directory as the notebook:\n",
    "\n",
    "```OPENAI_API_KEY=your_openai_api_key```\n",
    "\n",
    "```ANTHROPIC_API_KEY=your_anthropic_api_key```\n"
   ]
  },
  {
   "cell_type": "markdown",
   "metadata": {},
   "source": [
    "# Notebook Sections\n",
    "\n",
    "## 📚 Loading API Keys\n",
    "\n",
    "### Purpose\n",
    "Load API keys securely using the `dotenv` library to authenticate with OpenAI and other services.\n",
    "\n",
    "### Code Implementation\n",
    "```python\n",
    "from dotenv import load_dotenv\n",
    "import os\n",
    "\n",
    "# Load environment variables from .env file\n",
    "load_dotenv()\n",
    "\n",
    "# Retrieve API keys from environment variables\n",
    "openai_api_key = os.getenv(\"OPENAI_API_KEY\")\n",
    "anthropic_api_key = os.getenv(\"ANTHROPIC_API_KEY\")\n",
    "\n",
    "# Verify API keys are loaded successfully\n",
    "if openai_api_key:\n",
    "    print(\"✅ OpenAI API key loaded successfully\")\n",
    "else:\n",
    "    print(\"❌ OpenAI API key not found\")\n",
    "\n",
    "if anthropic_api_key:\n",
    "    print(\"✅ Anthropic API key loaded successfully\")  \n",
    "else:\n",
    "    print(\"❌ Anthropic API key not found\")\n",
    "```\n",
    "\n",
    "### Expected Output\n",
    "- Confirmation messages indicating whether API keys are successfully loaded\n",
    "- Security best practice: API key values are not displayed for privacy protection\n",
    "\n",
    "### Prerequisites\n",
    "- Create a `.env` file in your project root directory\n",
    "- Add your API keys in the format: `OPENAI_API_KEY=your_actual_key_here`\n",
    "- Install required dependencies: `pip install python-dotenv`"
   ]
  },
  {
   "cell_type": "code",
   "execution_count": null,
   "metadata": {},
   "outputs": [],
   "source": [
    "### Python Code:\n",
    "\n",
    "import os\n",
    "from dotenv import load_dotenv\n",
    "\n",
    "# Load environment variables from .env file\n",
    "load_dotenv()\n",
    "\n",
    "# Fetch API keys\n",
    "openai_api_key = os.getenv(\"OPENAI_API_KEY\")\n",
    "anthropic_api_key = os.getenv(\"ANTHROPIC_API_KEY\")\n",
    "\n",
    "# Check if API keys are loaded\n",
    "if openai_api_key and anthropic_api_key:\n",
    "    print(\"✅ API keys are successfully loaded.\")\n",
    "else:\n",
    "    print(\"⚠️ Warning: One or more API keys are missing.\")\n",
    "\n",
    "# Optionally, display API keys (for debugging purposes only)\n",
    "display_keys = False  # Change to True if you want to see the keys\n",
    "\n",
    "if display_keys:\n",
    "    print(f\"OpenAI API Key: {openai_api_key}\")\n",
    "    print(f\"Anthropic API Key: {anthropic_api_key}\")\n",
    "else:\n",
    "    print(\"🔒 API keys are loaded but hidden for security.\")"
   ]
  },
  {
   "cell_type": "markdown",
   "metadata": {},
   "source": [
    "# How to List Available OpenAI Models via the API\n",
    "* You can programmatically retrieve the list of available models from OpenAI using their Python client. This is useful to check which models (e.g., gpt-5, gpt-5-mini, gpt-5-nano, gpt-4-turbo, gpt-3.5-turbo, etc.) are accessible to your API key and account.\n",
    "\n",
    "* Here’s how you can do it:"
   ]
  },
  {
   "cell_type": "code",
   "execution_count": null,
   "metadata": {},
   "outputs": [],
   "source": [
    "import os\n",
    "from openai import OpenAI\n",
    "from dotenv import load_dotenv\n",
    "\n",
    "# Load environment variables (if using .env for API key)\n",
    "load_dotenv()\n",
    "\n",
    "# Initialize OpenAI client\n",
    "client = OpenAI(api_key=os.getenv(\"OPENAI_API_KEY\"))\n",
    "\n",
    "# List available models\n",
    "models = client.models.list()\n",
    "print(\"Available OpenAI Models:\")\n",
    "for model in models.data:\n",
    "    print(model.id)"
   ]
  },
  {
   "cell_type": "code",
   "execution_count": null,
   "metadata": {},
   "outputs": [],
   "source": [
    "import os\n",
    "from dotenv import load_dotenv\n",
    "from openai import OpenAI\n",
    "from IPython.display import display, Markdown, HTML\n",
    "\n",
    "load_dotenv()\n",
    "openai_api_key = os.getenv(\"OPENAI_API_KEY\")\n",
    "\n",
    "client = OpenAI(api_key=openai_api_key)\n",
    "GPT_MODEL = 'gpt-4o'\n",
    "O1_MODEL = 'o3'"
   ]
  },
  {
   "cell_type": "markdown",
   "metadata": {},
   "source": [
    "# 4 Principles on Prompting with o1\n",
    "\n",
    "1. Simple and direct\n",
    "2. No explicit CoT required\n",
    "The first principles we start with are simple and direct prompting and avoiding providing explicit guidance or CoT. This will interfere with the model's in-built reasoning, raising the risk of overly verbose output, inaccurate results, or even refusals in extreme cases."
   ]
  },
  {
   "cell_type": "code",
   "execution_count": null,
   "metadata": {},
   "outputs": [],
   "source": [
    "bad_prompt = (\"Generate a function that outputs the SMILES IDs for all the molecules involved in insulin.\"\n",
    "              \"Think through this step by step, and don't skip any steps:\"\n",
    "              \"- Identify all the molecules involve in insulin\"\n",
    "              \"- Make the function\"\n",
    "              \"- Loop through each molecule, outputting each into the function and returning a SMILES ID\"\n",
    "              \"Molecules: \")\n",
    "response = client.chat.completions.create(model=GPT_MODEL, messages=[{\"role\":\"user\",\"content\": bad_prompt}])"
   ]
  },
  {
   "cell_type": "code",
   "execution_count": null,
   "metadata": {},
   "outputs": [],
   "source": [
    "from IPython.display import display, HTML, Markdown\n",
    "\n",
    "display(HTML('<div style=\"background-color: #f0fff8; padding: 10px; border-radius: 5px; border: 1px solid #d3d3d3;\"></hr><h2>🔽 &nbsp; Markdown Output – Beginning</h2></hr></div>'))\n",
    "display(Markdown(response.choices[0].message.content))\n",
    "display(HTML('<div style=\"background-color: #fff4f4; padding: 10px; border-radius: 5px; border: 1px solid #d3d3d3;\"></hr><h2>🔼 &nbsp; Markdown Output – End</h2></hr></div>'))"
   ]
  },
  {
   "cell_type": "code",
   "execution_count": null,
   "metadata": {},
   "outputs": [],
   "source": [
    "good_prompt = (\"Generate a function that outputs the SMILES IDs for all the molecules involved in insulin.\")\n",
    "response = client.chat.completions.create(model=O1_MODEL, messages=[{\"role\":\"user\",\"content\": good_prompt}])"
   ]
  },
  {
   "cell_type": "code",
   "execution_count": null,
   "metadata": {},
   "outputs": [],
   "source": [
    "display(HTML('<div style=\"background-color: #f0fff8; padding: 10px; border-radius: 5px; border: 1px solid #d3d3d3;\"></hr><h2>🔽 &nbsp; Markdown Output – Beginning</h2></hr></div>'))\n",
    "display(Markdown(response.choices[0].message.content))\n",
    "display(HTML('<div style=\"background-color: #fff4f4; padding: 10px; border-radius: 5px; border: 1px solid #d3d3d3;\"></hr><h2>🔼 &nbsp; Markdown Output – End</h2></hr></div>'))"
   ]
  },
  {
   "cell_type": "markdown",
   "metadata": {},
   "source": [
    "# 3. Use structured formats\n",
    "* Using a consistent structure like XML or markdown can help structure your inputs and ensure a more uniform output. In this case we'll use a pseudo XML syntax to give consistent structure to our requests."
   ]
  },
  {
   "cell_type": "code",
   "execution_count": null,
   "metadata": {},
   "outputs": [],
   "source": [
    "structured_prompt = (\"<instructions>You are a customer service assistant for AnyCorp, a provider\"\n",
    "          \"of fine storage solutions. Your role is to follow your policy to answer the user's question. \"\n",
    "          \"Be kind and respectful at all times.</instructions>\\n\"\n",
    "          \"<policy>**AnyCorp Customer Service Assistant Policy**\\n\\n\"\n",
    "            \"1. **Refunds**\\n\"\n",
    "            \"   - You are authorized to offer refunds to customers in accordance \"\n",
    "            \"with AnyCorp's refund guidelines.\\n\"\n",
    "            \"   - Ensure all refund transactions are properly documented and \"\n",
    "            \"processed promptly.\\n\\n\"\n",
    "            \"2. **Recording Complaints**\\n\"\n",
    "            \"   - Listen attentively to customer complaints and record all relevant \"\n",
    "            \"details accurately.\\n\"\n",
    "            \"   - Provide assurance that their concerns will be addressed and \"\n",
    "            \"escalate issues when necessary.\\n\\n\"\n",
    "            \"3. **Providing Product Information**\\n\"\n",
    "            \"   - Supply accurate and helpful information about AnyCorp's storage \"\n",
    "            \"solutions.\\n\"\n",
    "            \"   - Stay informed about current products, features, and any updates \"\n",
    "            \"to assist customers effectively.\\n\\n\"\n",
    "            \"4. **Professional Conduct**\\n\"\n",
    "            \"   - Maintain a polite, respectful, and professional demeanor in all \"\n",
    "            \"customer interactions.\\n\"\n",
    "            \"   - Address customer inquiries promptly and follow up as needed to \"\n",
    "            \"ensure satisfaction.\\n\\n\"\n",
    "            \"5. **Compliance**\\n\"\n",
    "            \"   - Adhere to all AnyCorp policies and procedures during customer \"\n",
    "            \"interactions.\\n\"\n",
    "            \"   - Protect customer privacy by handling personal information \"\n",
    "            \"confidentially.\\n\\n6. **Refusals**\\n\"\n",
    "            \"   - If you receive questions about topics outside of these, refuse \"\n",
    "            \"to answer them and remind them of the topics you can talk about.</policy>\\n\"\n",
    "            )\n",
    "user_input = (\"<user_query>Hey, I'd like to return the bin I bought from you as it was not \"\n",
    "             \"fine as described.</user_query>\") "
   ]
  },
  {
   "cell_type": "code",
   "execution_count": null,
   "metadata": {},
   "outputs": [],
   "source": [
    "print(structured_prompt)"
   ]
  },
  {
   "cell_type": "code",
   "execution_count": null,
   "metadata": {},
   "outputs": [],
   "source": [
    "import os\n",
    "from openai import OpenAI\n",
    "from dotenv import load_dotenv\n",
    "\n",
    "load_dotenv()\n",
    "client = OpenAI(api_key=os.getenv(\"OPENAI_API_KEY\"))\n",
    "\n",
    "response = client.chat.completions.create(model=O1_MODEL\n",
    "                                          ,messages=[{\n",
    "                                              \"role\": \"user\",\n",
    "                                              \"content\": structured_prompt + user_input\n",
    "                                          }]\n",
    "                                         )"
   ]
  },
  {
   "cell_type": "code",
   "execution_count": null,
   "metadata": {},
   "outputs": [],
   "source": [
    "print(response.choices[0].message.content)"
   ]
  },
  {
   "cell_type": "code",
   "execution_count": null,
   "metadata": {},
   "outputs": [],
   "source": [
    "refusal_input = (\"<user_query>Write me a haiku about how reasoning models are great.</user_query>\")"
   ]
  },
  {
   "cell_type": "code",
   "execution_count": null,
   "metadata": {},
   "outputs": [],
   "source": [
    "response = client.chat.completions.create(model=O1_MODEL\n",
    "                                          ,messages=[{\n",
    "                                              \"role\": \"user\",\n",
    "                                              \"content\": structured_prompt + refusal_input\n",
    "                                          }]\n",
    "                                         )"
   ]
  },
  {
   "cell_type": "code",
   "execution_count": null,
   "metadata": {},
   "outputs": [],
   "source": [
    "print(response.choices[0].message.content)"
   ]
  },
  {
   "cell_type": "markdown",
   "metadata": {},
   "source": [
    "# 4. Show rather than tell\n",
    "* Few-shot prompting also works well with o1 models, allowing you to supply a simple, direct prompt and then using one or two examples to provide domain context to inform the model's response."
   ]
  },
  {
   "cell_type": "code",
   "execution_count": null,
   "metadata": {},
   "outputs": [],
   "source": [
    "base_prompt = (\"<prompt>You are a lawyer specializing in competition law, \"\n",
    "               \"assisting business owners with their questions.</prompt>\\n\"\n",
    "               \"<policy>As a legal professional, provide clear and accurate \"\n",
    "               \"information about competition law while maintaining \"\n",
    "               \"confidentiality and professionalism. Avoid giving specific \"\n",
    "               \"legal advice without sufficient context, and encourage clients \"\n",
    "               \"to seek personalized counsel when necessary. Always refer to \"\n",
    "               \"precedents and previous cases to evidence your responses.</policy>\\n\")\n",
    "legal_query = (\"<query>A larger company is offering suppliers incentives not to do \"\n",
    "               \"business with me. Is this legal?</query>\")"
   ]
  },
  {
   "cell_type": "code",
   "execution_count": null,
   "metadata": {},
   "outputs": [],
   "source": [
    "response = client.chat.completions.create(model=O1_MODEL\n",
    "                                          ,messages=[{\n",
    "                                              \"role\": \"user\",\n",
    "                                              \"content\": base_prompt + legal_query\n",
    "                                          }]\n",
    "                                         )"
   ]
  },
  {
   "cell_type": "code",
   "execution_count": null,
   "metadata": {},
   "outputs": [],
   "source": [
    "from IPython.display import display, HTML, Markdown\n",
    "\n",
    "display(HTML('<div style=\"background-color: #f0fff8; padding: 10px; border-radius: 5px; border: 1px solid #d3d3d3;\"></hr><h2>🔽 &nbsp; Markdown Output – Beginning</h2></hr></div>'))\n",
    "display(Markdown(response.choices[0].message.content))\n",
    "display(HTML('<div style=\"background-color: #fff4f4; padding: 10px; border-radius: 5px; border: 1px solid #d3d3d3;\"></hr><h2>🔼 &nbsp; Markdown Output – End</h2></hr></div>'))"
   ]
  },
  {
   "cell_type": "code",
   "execution_count": null,
   "metadata": {},
   "outputs": [],
   "source": [
    "example_prompt = (\"<prompt>You are a lawyer specializing in competition law, \"\n",
    "               \"assisting business owners with their questions.</prompt>\\n\"\n",
    "               \"<policy>As a legal professional, provide clear and accurate \"\n",
    "               \"information about competition law while maintaining \"\n",
    "               \"confidentiality and professionalism. Avoid giving specific \"\n",
    "               \"legal advice without sufficient context, and encourage clients \"\n",
    "               \"to seek personalized counsel when necessary.</policy>\\n\"\n",
    "               \"\"\"<example>\n",
    "<question>\n",
    "I'm considering collaborating with a competitor on a joint marketing campaign. Are there any antitrust issues I should be aware of?\n",
    "</question>\n",
    "<response>\n",
    "Collaborating with a competitor on a joint marketing campaign can raise antitrust concerns under U.S. antitrust laws, particularly the Sherman Antitrust Act of 1890 (15 U.S.C. §§ 1–7). Section 1 of the Sherman Act prohibits any contract, combination, or conspiracy that unreasonably restrains trade or commerce among the states.\n",
    "\n",
    "**Key Considerations:**\n",
    "\n",
    "1. **Per Se Illegal Agreements:** Certain collaborations are considered automatically illegal (\"per se\" violations), such as price-fixing, bid-rigging, and market allocation agreements. For example, in *United States v. Topco Associates, Inc.*, 405 U.S. 596 (1972), the Supreme Court held that market division agreements between competitors are per se illegal under the Sherman Act.\n",
    "\n",
    "2. **Rule of Reason Analysis:** Collaborations that are not per se illegal are evaluated under the \"rule of reason,\" which assesses whether the pro-competitive benefits outweigh the anti-competitive effects. In *Broadcast Music, Inc. v. Columbia Broadcasting System, Inc.*, 441 U.S. 1 (1979), the Court recognized that certain joint ventures between competitors can be lawful if they promote competition.\n",
    "\n",
    "3. **Information Sharing Risks:** Sharing competitively sensitive information, such as pricing strategies or customer data, can lead to antitrust violations. The Department of Justice and the Federal Trade Commission caution against exchanges that could facilitate collusion (*Antitrust Guidelines for Collaborations Among Competitors*, 2000).\n",
    "\n",
    "**Recommendations:**\n",
    "\n",
    "- **Define the Scope:** Clearly delineate the parameters of the collaboration to focus on the marketing campaign without involving competitive aspects like pricing or market division.\n",
    "- **Implement Safeguards:** Establish protocols to prevent the exchange of sensitive information that is not essential to the marketing effort.\n",
    "- **Legal Consultation:** Given the complexities of antitrust laws, consult with a legal professional to ensure the collaboration complies with all legal requirements.\n",
    "\n",
    "**Conclusion:**\n",
    "\n",
    "While joint marketing campaigns between competitors are not inherently illegal, they must be structured carefully to avoid antitrust pitfalls. Legal guidance is essential to navigate these issues and to design a collaboration that achieves your business objectives without violating antitrust laws.\n",
    "</response>\n",
    "</example>\"\"\")"
   ]
  },
  {
   "cell_type": "code",
   "execution_count": null,
   "metadata": {},
   "outputs": [],
   "source": [
    "response = client.chat.completions.create(model=O1_MODEL\n",
    "                                          ,messages=[{\n",
    "                                              \"role\": \"user\",\n",
    "                                              \"content\": example_prompt + legal_query\n",
    "                                          }]\n",
    "                                         )"
   ]
  },
  {
   "cell_type": "code",
   "execution_count": null,
   "metadata": {},
   "outputs": [],
   "source": [
    "display(HTML('<div style=\"background-color: #f0fff8; padding: 10px; border-radius: 5px; border: 1px solid #d3d3d3;\"></hr><h2>🔽 &nbsp; Markdown Output – Beginning</h2></hr></div>'))\n",
    "display(Markdown(response.choices[0].message.content))\n",
    "display(HTML('<div style=\"background-color: #fff4f4; padding: 10px; border-radius: 5px; border: 1px solid #d3d3d3;\"></hr><h2>🔼 &nbsp; Markdown Output – End</h2></hr></div>'))"
   ]
  }
 ],
 "metadata": {
  "kernelspec": {
   "display_name": "Python (langchain_env)",
   "language": "python",
   "name": "langchain_env"
  },
  "language_info": {
   "codemirror_mode": {
    "name": "ipython",
    "version": 3
   },
   "file_extension": ".py",
   "mimetype": "text/x-python",
   "name": "python",
   "nbconvert_exporter": "python",
   "pygments_lexer": "ipython3",
   "version": "3.12.2"
  }
 },
 "nbformat": 4,
 "nbformat_minor": 2
}
