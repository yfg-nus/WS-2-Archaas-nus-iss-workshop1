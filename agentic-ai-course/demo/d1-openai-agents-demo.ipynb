{
 "cells": [
  {
   "cell_type": "markdown",
   "metadata": {},
   "source": [
    "# OpenAI Agents SDK - Brief Demo\n",
    "\n",
    "Quick demonstration of four key concepts in the OpenAI Agents SDK:\n",
    "1. **Agents** - Defining and running specialized AI agents\n",
    "2. **Handoffs** - Agents transferring control to others\n",
    "3. **Guardrails** - Input/output validation\n",
    "4. **Sessions** - Stateful conversation history"
   ]
  },
  {
   "cell_type": "code",
   "execution_count": null,
   "metadata": {},
   "outputs": [],
   "source": [
    "import os\n",
    "from dotenv import load_dotenv\n",
    "from agents import Agent, Runner, SQLiteSession\n",
    "import asyncio\n",
    "\n",
    "# Load environment variables\n",
    "load_dotenv(override=True)\n",
    "\n",
    "print(\"✅ OpenAI Agents SDK loaded\")"
   ]
  },
  {
   "cell_type": "markdown",
   "metadata": {},
   "source": [
    "## 1. Agents - Define and Run Specialized AI Agents"
   ]
  },
  {
   "cell_type": "code",
   "execution_count": null,
   "metadata": {},
   "outputs": [],
   "source": [
    "# Create specialized agents with specific instructions\n",
    "math_agent = Agent(\n",
    "    name=\"Math Agent\",\n",
    "    instructions=\"You solve math problems step by step. Be concise.\"\n",
    ")\n",
    "\n",
    "history_agent = Agent(\n",
    "    name=\"History Agent\",\n",
    "    instructions=\"You answer history questions with dates and context. Be concise.\"\n",
    ")\n",
    "\n",
    "# Actually run the agents\n",
    "async def demo_agents():\n",
    "    # Test math agent\n",
    "    math_result = await Runner.run(math_agent, \"What is 5 + 3?\")\n",
    "    print(f\"Math Agent: {math_result.final_output}\\n\")\n",
    "\n",
    "    # Test history agent\n",
    "    history_result = await Runner.run(history_agent, \"When was World War II?\")\n",
    "    print(f\"History Agent: {history_result.final_output}\")\n",
    "\n",
    "await demo_agents()"
   ]
  },
  {
   "cell_type": "markdown",
   "metadata": {},
   "source": [
    "## 2. Handoffs - Agents Transfer Control"
   ]
  },
  {
   "cell_type": "code",
   "execution_count": null,
   "metadata": {},
   "outputs": [],
   "source": [
    "# Triage agent can hand off to specialized agents\n",
    "triage_agent = Agent(\n",
    "    name=\"Triage Agent\",\n",
    "    instructions=\"Route math questions to Math Agent, history to History Agent. Briefly say who you're routing to.\",\n",
    "    handoffs=[math_agent, history_agent]\n",
    ")\n",
    "\n",
    "# Demonstrate actual handoff\n",
    "async def demo_handoff():\n",
    "    result = await Runner.run(triage_agent, \"What is 10 divided by 2?\")\n",
    "    print(result.last_agent)\n",
    "    print(f\"Triage: {result.final_output}\")\n",
    "await demo_handoff()\n",
    "\n",
    "# Demonstrate actual handoff\n",
    "async def demo_handoff2():\n",
    "    result = await Runner.run(triage_agent, \"When did Singapore gain independence?\")\n",
    "    print(result.last_agent)\n",
    "    print(f\"Triage: {result.final_output}\")\n",
    "await demo_handoff2()"
   ]
  },
  {
   "cell_type": "markdown",
   "metadata": {},
   "source": [
    "## 3. Guardrails - Input Validation (Working Demo)"
   ]
  },
  {
   "cell_type": "code",
   "execution_count": null,
   "metadata": {},
   "outputs": [],
   "source": [
    "# Create an agent with validation built into instructions\n",
    "# This demonstrates guardrail concept through agent behavior\n",
    "restricted_agent = Agent(\n",
    "    name=\"Restricted Agent\",\n",
    "    instructions=\"\"\"You ONLY answer math or history questions.\n",
    "    If asked about anything else (weather, sports, food, etc.), respond:\n",
    "    'I can only help with math or history questions.'\"\"\"\n",
    ")\n",
    "\n",
    "async def demo_guardrails():\n",
    "    print(\"Testing input validation through agent behavior:\\n\")\n",
    "\n",
    "    # Valid: Math question\n",
    "    result = await Runner.run(restricted_agent, \"What is 5 + 3?\")\n",
    "    print(f\"✅ Math question: {result.final_output}\\n\")\n",
    "\n",
    "    # Valid: History question\n",
    "    result = await Runner.run(restricted_agent, \"When was the American Revolution?\")\n",
    "    print(f\"✅ History question: {result.final_output}\\n\")\n",
    "\n",
    "    # Invalid: Weather question (agent should refuse)\n",
    "    result = await Runner.run(restricted_agent, \"What's the weather today?\")\n",
    "    print(f\"❌ Weather question: {result.final_output}\")\n",
    "\n",
    "await demo_guardrails()"
   ]
  },
  {
   "cell_type": "markdown",
   "metadata": {},
   "source": [
    "## 4. Sessions - Stateful Conversation History"
   ]
  },
  {
   "cell_type": "code",
   "execution_count": null,
   "metadata": {},
   "outputs": [],
   "source": [
    "# Sessions maintain conversation history across interactions\n",
    "async def demo_sessions():\n",
    "    # Create a session for maintaining state\n",
    "    session = SQLiteSession(\"demo_conversation\")\n",
    "\n",
    "    print(\"With Sessions - Stateful conversation:\\n\")\n",
    "\n",
    "    # First interaction\n",
    "    result1 = await Runner.run(\n",
    "        math_agent,\n",
    "        \"Calculate 4 * 4\",\n",
    "        session=session\n",
    "    )\n",
    "    print(f\"Q1: Calculate 4 * 4\")\n",
    "    print(f\"A1: {result1.final_output}\\n\")\n",
    "\n",
    "    # Second interaction - agent remembers previous context\n",
    "    result2 = await Runner.run(\n",
    "        math_agent,\n",
    "        \"Now multiply that result by 3\",\n",
    "        session=session\n",
    "    )\n",
    "    print(f\"Q2: Now multiply that result by 3\")\n",
    "    print(f\"A2: {result2.final_output}\")\n",
    "    print(\"\\n✅ Session maintains conversation history!\")\n",
    "\n",
    "await demo_sessions()"
   ]
  },
  {
   "cell_type": "markdown",
   "metadata": {},
   "source": [
    "## Summary\n",
    "\n",
    "**OpenAI Agents SDK** demonstrated:\n",
    "- **Agents**: Specialized AI agents processing real requests\n",
    "- **Handoffs**: Multi-agent workflows with control transfer\n",
    "- **Guardrails**: Input validation through agent behavior\n",
    "- **Sessions**: Stateful conversations with automatic history management using SQLiteSession\n",
    "\n",
    "Each concept was shown with actual running code demonstrating real agent behavior."
   ]
  }
 ],
 "metadata": {
  "kernelspec": {
   "display_name": "Python (agentic-ai-course)",
   "language": "python",
   "name": "agentic-ai-course"
  },
  "language_info": {
   "codemirror_mode": {
    "name": "ipython",
    "version": 3
   },
   "file_extension": ".py",
   "mimetype": "text/x-python",
   "name": "python",
   "nbconvert_exporter": "python",
   "pygments_lexer": "ipython3",
   "version": "3.11.0"
  }
 },
 "nbformat": 4,
 "nbformat_minor": 4
}
